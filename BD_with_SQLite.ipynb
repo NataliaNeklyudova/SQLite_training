{
 "cells": [
  {
   "cell_type": "markdown",
   "metadata": {},
   "source": [
    "Пробная работа с SQLite3 по базе данных студентов \"Академии \"Калашников\""
   ]
  },
  {
   "cell_type": "code",
   "execution_count": 1,
   "metadata": {},
   "outputs": [],
   "source": [
    "import sqlite3\n",
    "from sqlite3 import Error\n",
    "\n",
    "def create_connection(path):\n",
    "    connection = None\n",
    "    try:\n",
    "        connection = sqlite3.connect(path)\n",
    "        print(\"Connection to SQLite DB successful\")\n",
    "    except Error as e:\n",
    "        print(f\"The error '{e}' occurred\")\n",
    "\n",
    "    return connection"
   ]
  },
  {
   "cell_type": "code",
   "execution_count": 2,
   "metadata": {},
   "outputs": [
    {
     "name": "stdout",
     "output_type": "stream",
     "text": [
      "Connection to SQLite DB successful\n"
     ]
    }
   ],
   "source": [
    "path = \"Akademy_Kalashnikov_BD.sqlite\"\n",
    "connection = create_connection(path)"
   ]
  },
  {
   "cell_type": "markdown",
   "metadata": {},
   "source": [
    "Создам вспомогательную функцию, которая позволяет создавать таблицы и добавлять в них записи "
   ]
  },
  {
   "cell_type": "code",
   "execution_count": 3,
   "metadata": {},
   "outputs": [],
   "source": [
    "def execute_query(connection, query):\n",
    "    cursor = connection.cursor()\n",
    "    try:\n",
    "        cursor.execute(query)\n",
    "        connection.commit()\n",
    "        print(\"Query executed successfully\")\n",
    "    except Error as e:\n",
    "        print(f\"The error '{e}' occurred\")"
   ]
  },
  {
   "cell_type": "markdown",
   "metadata": {},
   "source": [
    "Создам и наполню записями две связанные таблицы - список групп и список обучающихся. "
   ]
  },
  {
   "cell_type": "code",
   "execution_count": 4,
   "metadata": {},
   "outputs": [
    {
     "name": "stdout",
     "output_type": "stream",
     "text": [
      "Query executed successfully\n"
     ]
    }
   ],
   "source": [
    "create_groups_table = \"\"\"\n",
    "CREATE TABLE IF NOT EXISTS groups (\n",
    "  code_group_name TEXT PRIMARY KEY,\n",
    "  level TEXT NOT NULL,\n",
    "  course_name TEXT\n",
    "  );\n",
    "\"\"\"\n",
    "execute_query(connection, create_groups_table)"
   ]
  },
  {
   "cell_type": "code",
   "execution_count": 5,
   "metadata": {},
   "outputs": [
    {
     "name": "stdout",
     "output_type": "stream",
     "text": [
      "Query executed successfully\n"
     ]
    }
   ],
   "source": [
    "create_students_table = \"\"\"\n",
    "CREATE TABLE IF NOT EXISTS students (\n",
    "  id INTEGER PRIMARY KEY AUTOINCREMENT,\n",
    "  name TEXT NOT NULL,\n",
    "  surname TEXT NOT NULL,\n",
    "  code_group_name TEXT NOT NULL,\n",
    "  FOREIGN KEY (code_group_name) REFERENCES groups (code_group_name)\n",
    " );\n",
    "\"\"\"\n",
    "execute_query(connection, create_students_table)"
   ]
  },
  {
   "cell_type": "code",
   "execution_count": 6,
   "metadata": {},
   "outputs": [
    {
     "name": "stdout",
     "output_type": "stream",
     "text": [
      "Query executed successfully\n"
     ]
    }
   ],
   "source": [
    "create_groups = \"\"\"\n",
    "INSERT INTO\n",
    "    groups (code_group_name, level, course_name)\n",
    "VALUES\n",
    "    ('НР-11','Вводный','Нейро'),\n",
    "    ('НР-12','Вводный','Нейро'),\n",
    "    ('НР-21','Базовый','Нейро'),\n",
    "    ('НР-31','Углубленный','Нейро'),\n",
    "    ('РТ-11','Вводный','Робо'),\n",
    "    ('РТ-12','Вводный','Робо'),\n",
    "    ('РТ-32','Углубленный','Робо'),\n",
    "    ('ИТ-11','Вводный','ИТ'),\n",
    "    ('ИТ-21','Базовый','ИТ'),\n",
    "    ('КС-11','Вводный','Космос');\n",
    "\n",
    "\"\"\"\n",
    "execute_query(connection, create_groups)"
   ]
  },
  {
   "cell_type": "code",
   "execution_count": 7,
   "metadata": {},
   "outputs": [
    {
     "name": "stdout",
     "output_type": "stream",
     "text": [
      "Query executed successfully\n"
     ]
    }
   ],
   "source": [
    "create_students = \"\"\"\n",
    "INSERT INTO\n",
    "    students (name, surname, code_group_name)\n",
    "VALUES\n",
    "    ('Иван', 'Тургенев', 'ИТ-21'),\n",
    "    ('Антон', 'Чехов', 'ИТ-11'),\n",
    "    ('Федор', 'Достоевский', 'НР-31'),\n",
    "    ('Александр', 'Пушкин', 'РТ-32'),\n",
    "    ('Михаил', 'Булгаков', 'НР-31');\n",
    " \n",
    "\"\"\"\n",
    "\n",
    "execute_query(connection, create_students) "
   ]
  },
  {
   "cell_type": "markdown",
   "metadata": {},
   "source": [
    "Для извлечение данных из таблиц создам вспомогательную функцию"
   ]
  },
  {
   "cell_type": "code",
   "execution_count": 8,
   "metadata": {},
   "outputs": [],
   "source": [
    "def execute_read_query(connection, query):\n",
    "    cursor = connection.cursor()\n",
    "    result = None\n",
    "    try:\n",
    "        cursor.execute(query)\n",
    "        result = cursor.fetchall()\n",
    "        return result\n",
    "    except Error as e:\n",
    "        print(f\"The error '{e}' occurred\")"
   ]
  },
  {
   "cell_type": "markdown",
   "metadata": {},
   "source": [
    "Извлеку все данные таблиц students и groups"
   ]
  },
  {
   "cell_type": "code",
   "execution_count": 9,
   "metadata": {},
   "outputs": [
    {
     "name": "stdout",
     "output_type": "stream",
     "text": [
      "(1, 'Иван', 'Тургенев', 'ИТ-21')\n",
      "(2, 'Антон', 'Чехов', 'ИТ-11')\n",
      "(3, 'Федор', 'Достоевский', 'НР-31')\n",
      "(4, 'Александр', 'Пушкин', 'РТ-32')\n",
      "(5, 'Михаил', 'Булгаков', 'НР-31')\n"
     ]
    }
   ],
   "source": [
    "select_students = \"SELECT * from students\"\n",
    "students = execute_read_query(connection, select_students)\n",
    "\n",
    "for student in students:\n",
    "    print(student)"
   ]
  },
  {
   "cell_type": "code",
   "execution_count": 10,
   "metadata": {},
   "outputs": [
    {
     "name": "stdout",
     "output_type": "stream",
     "text": [
      "('НР-11', 'Вводный', 'Нейро')\n",
      "('НР-12', 'Вводный', 'Нейро')\n",
      "('НР-21', 'Базовый', 'Нейро')\n",
      "('НР-31', 'Углубленный', 'Нейро')\n",
      "('РТ-11', 'Вводный', 'Робо')\n",
      "('РТ-12', 'Вводный', 'Робо')\n",
      "('РТ-32', 'Углубленный', 'Робо')\n",
      "('ИТ-11', 'Вводный', 'ИТ')\n",
      "('ИТ-21', 'Базовый', 'ИТ')\n",
      "('КС-11', 'Вводный', 'Космос')\n"
     ]
    }
   ],
   "source": [
    "select_groups = \"SELECT * from groups\"\n",
    "groups = execute_read_query(connection, select_groups)\n",
    "\n",
    "for group in groups:\n",
    "    print(group)"
   ]
  },
  {
   "cell_type": "markdown",
   "metadata": {},
   "source": [
    "Извлеку фамилии обучающихся, их группы, курсы и направления"
   ]
  },
  {
   "cell_type": "code",
   "execution_count": 11,
   "metadata": {},
   "outputs": [
    {
     "name": "stdout",
     "output_type": "stream",
     "text": [
      "(1, 'Тургенев', 'ИТ-21', 'Базовый', 'ИТ')\n",
      "(2, 'Чехов', 'ИТ-11', 'Вводный', 'ИТ')\n",
      "(3, 'Достоевский', 'НР-31', 'Углубленный', 'Нейро')\n",
      "(4, 'Пушкин', 'РТ-32', 'Углубленный', 'Робо')\n",
      "(5, 'Булгаков', 'НР-31', 'Углубленный', 'Нейро')\n"
     ]
    }
   ],
   "source": [
    "select_students_groups = \"\"\"\n",
    "SELECT\n",
    "    students.id,\n",
    "    students.surname,\n",
    "    groups.code_group_name,\n",
    "    groups.level,\n",
    "    groups.course_name\n",
    "FROM\n",
    "    groups\n",
    "    INNER JOIN students ON students.code_group_name = groups.code_group_name\n",
    "\n",
    "\"\"\"\n",
    "students_groups = execute_read_query(connection, select_students_groups)\n",
    "\n",
    "for students_group in students_groups:\n",
    "    print(students_group)\n"
   ]
  },
  {
   "cell_type": "markdown",
   "metadata": {},
   "source": [
    "Подсчитаю, сколько учеников учится в каждой группе"
   ]
  },
  {
   "cell_type": "code",
   "execution_count": 12,
   "metadata": {},
   "outputs": [
    {
     "name": "stdout",
     "output_type": "stream",
     "text": [
      "('ИТ-11', 1)\n",
      "('ИТ-21', 1)\n",
      "('НР-31', 2)\n",
      "('РТ-32', 1)\n"
     ]
    }
   ],
   "source": [
    "select_students_groups_count = \"\"\"\n",
    "SELECT\n",
    "    groups.code_group_name as Post,\n",
    "    COUNT (students.id) as Students\n",
    "FROM\n",
    "    students,\n",
    "    groups\n",
    "WHERE\n",
    "    groups.code_group_name = students.code_group_name\n",
    "GROUP BY\n",
    "    groups.code_group_name\n",
    "\n",
    "\"\"\"\n",
    "\n",
    "students_groups_count = execute_read_query(connection, select_students_groups_count)\n",
    "\n",
    "for students_groups_ in students_groups_count:\n",
    "    print(students_groups_)\n"
   ]
  },
  {
   "cell_type": "markdown",
   "metadata": {},
   "source": [
    "Изменю значение фамилии в таблице students"
   ]
  },
  {
   "cell_type": "code",
   "execution_count": 13,
   "metadata": {},
   "outputs": [
    {
     "name": "stdout",
     "output_type": "stream",
     "text": [
      "('Булгаков',)\n"
     ]
    }
   ],
   "source": [
    "select_student_surname = \"\"\"\n",
    "SELECT surname FROM students WHERE id = 5\n",
    "\"\"\"\n",
    "\n",
    "student_surname = execute_read_query(connection, select_student_surname)\n",
    "\n",
    "for surname in student_surname:\n",
    "    print(surname)"
   ]
  },
  {
   "cell_type": "code",
   "execution_count": 14,
   "metadata": {},
   "outputs": [
    {
     "name": "stdout",
     "output_type": "stream",
     "text": [
      "Query executed successfully\n"
     ]
    }
   ],
   "source": [
    "update_student_surname = \"\"\"\n",
    "UPDATE\n",
    "    students\n",
    "SET\n",
    "    surname = \"Лермонтов\"\n",
    "WHERE\n",
    "    id = 5\n",
    "\"\"\"\n",
    "\n",
    "execute_query(connection, update_student_surname)"
   ]
  },
  {
   "cell_type": "code",
   "execution_count": 15,
   "metadata": {},
   "outputs": [
    {
     "name": "stdout",
     "output_type": "stream",
     "text": [
      "('Лермонтов',)\n"
     ]
    }
   ],
   "source": [
    "select_student_surname = \"\"\"\n",
    "SELECT surname FROM students WHERE id = 5\n",
    "\"\"\"\n",
    "\n",
    "student_surname = execute_read_query(connection, select_student_surname)\n",
    "\n",
    "for surname in student_surname:\n",
    "    print(surname)"
   ]
  },
  {
   "cell_type": "markdown",
   "metadata": {},
   "source": [
    "Удалю все группы, относящиеся к направлению \"Космос\""
   ]
  },
  {
   "cell_type": "code",
   "execution_count": 16,
   "metadata": {},
   "outputs": [
    {
     "name": "stdout",
     "output_type": "stream",
     "text": [
      "Query executed successfully\n"
     ]
    }
   ],
   "source": [
    "delete_group = \"DELETE FROM groups WHERE groups.course_name ='Космос' \"\n",
    "execute_query(connection, delete_group)"
   ]
  },
  {
   "cell_type": "code",
   "execution_count": 17,
   "metadata": {},
   "outputs": [
    {
     "name": "stdout",
     "output_type": "stream",
     "text": [
      "('НР-11', 'Вводный', 'Нейро')\n",
      "('НР-12', 'Вводный', 'Нейро')\n",
      "('НР-21', 'Базовый', 'Нейро')\n",
      "('НР-31', 'Углубленный', 'Нейро')\n",
      "('РТ-11', 'Вводный', 'Робо')\n",
      "('РТ-12', 'Вводный', 'Робо')\n",
      "('РТ-32', 'Углубленный', 'Робо')\n",
      "('ИТ-11', 'Вводный', 'ИТ')\n",
      "('ИТ-21', 'Базовый', 'ИТ')\n"
     ]
    }
   ],
   "source": [
    "select_groups = \"SELECT * from groups\"\n",
    "groups = execute_read_query(connection, select_groups)\n",
    "\n",
    "for group in groups:\n",
    "    print(group)"
   ]
  },
  {
   "cell_type": "code",
   "execution_count": 18,
   "metadata": {},
   "outputs": [],
   "source": [
    "connection.close()"
   ]
  }
 ],
 "metadata": {
  "kernelspec": {
   "display_name": "Python 3",
   "language": "python",
   "name": "python3"
  },
  "language_info": {
   "codemirror_mode": {
    "name": "ipython",
    "version": 3
   },
   "file_extension": ".py",
   "mimetype": "text/x-python",
   "name": "python",
   "nbconvert_exporter": "python",
   "pygments_lexer": "ipython3",
   "version": "3.7.4"
  }
 },
 "nbformat": 4,
 "nbformat_minor": 2
}
